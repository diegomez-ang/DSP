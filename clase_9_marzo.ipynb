{
 "cells": [
  {
   "cell_type": "code",
   "execution_count": 1,
   "id": "627ae5fc",
   "metadata": {},
   "outputs": [],
   "source": [
    "#mascaras para mejorar la imagen, se utilizan los filtros\n",
    "#imfilter\n",
    "#la suma de toda la mascara de un valor unitario.\n",
    "f = fspecial(\"average\",3); # 3 numero el numero de la matriz\n",
    "f(2,2) = 0,3 #centro de la matriz \n",
    "gris = imfilter(gris,f);\n",
    "\n",
    "#filtros para mejorar Gauss \n",
    "#usado mascara gaussiana -> da relevancia al pixel y no a los vecinos suavizan la imagen\n",
    "#hace una homogenización, se pueden mezclar filtros\n",
    "\"gaussian\"\n",
    "\"log\" ->  se centra en los vecinos no en el pixel\n",
    "\"laplaciano\" -> \n",
    "\"motion\" -> se centra en los movimientos\n",
    "\"disk\" -> hace una difuminación.\n",
    "\"sobel\" -> destaca los vecinos, aporte de los contornos.\"transformada hue\"\n",
    "- es mas rapido usar un filtro computacionalmente\n",
    "\n",
    "g=f'; # transpone cambio en las verticales\n",
    "grish \n",
    "\n",
    "# como mejorar la resolución \n",
    "# escalado de una imagen\n",
    "\n",
    "#matriz de transformación homogenea \n",
    "https://www.youtube.com/watch?v=BxJxWr5wlrI   \n",
    "extrapolar\n",
    "----- EROSION Y DILATACIÓN DE IMAGENES -----\n",
    "que haga la dilatacion a partir de una marca especifica, ejemplo una lines\n",
    "operaciones morfologicas -> se basa en teoria de conjuntos.\n",
    "mantener la forma de su origen."
   ]
  },
  {
   "cell_type": "code",
   "execution_count": 2,
   "id": "72a479ce",
   "metadata": {},
   "outputs": [
    {
     "name": "stdout",
     "output_type": "stream",
     "text": [
      "error: 'from' undefined near line 1 column 1\n",
      "parse error:\n",
      "\n",
      "  syntax error\n",
      "\n",
      ">>> display(HTML(\"\"\"<a href=\"https://www.youtube.com/watch?v=BxJxWr5wlrI\">text</a>\"\"\"))\n",
      "                                 ^\n",
      "\n"
     ]
    }
   ],
   "source": [
    "from IPython.core.display import display, HTML\n",
    "display(HTML(\"\"\"<a href=\"https://www.youtube.com/watch?v=BxJxWr5wlrI\">text</a>\"\"\"))"
   ]
  }
 ],
 "metadata": {
  "kernelspec": {
   "display_name": "Octave",
   "language": "octave",
   "name": "octave"
  },
  "language_info": {
   "file_extension": ".m",
   "help_links": [
    {
     "text": "GNU Octave",
     "url": "https://www.gnu.org/software/octave/support.html"
    },
    {
     "text": "Octave Kernel",
     "url": "https://github.com/Calysto/octave_kernel"
    },
    {
     "text": "MetaKernel Magics",
     "url": "https://metakernel.readthedocs.io/en/latest/source/README.html"
    }
   ],
   "mimetype": "text/x-octave",
   "name": "octave",
   "version": "5.2.0"
  }
 },
 "nbformat": 4,
 "nbformat_minor": 5
}
