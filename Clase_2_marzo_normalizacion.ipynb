{
 "cells": [
  {
   "cell_type": "code",
   "execution_count": null,
   "id": "e1b1ad0c",
   "metadata": {},
   "outputs": [],
   "source": [
    "pkg load image\n",
    "\n",
    "#normalizacion -> consiste en dejar los colores en unos rangos especificos \n",
    "\n",
    "R1 = R;\n",
    "R1 = histeq(R); #mejora de la ecualizacion \n",
    "\n"
   ]
  }
 ],
 "metadata": {
  "kernelspec": {
   "display_name": "Octave",
   "language": "octave",
   "name": "octave"
  },
  "language_info": {
   "file_extension": ".m",
   "help_links": [
    {
     "text": "GNU Octave",
     "url": "https://www.gnu.org/software/octave/support.html"
    },
    {
     "text": "Octave Kernel",
     "url": "https://github.com/Calysto/octave_kernel"
    },
    {
     "text": "MetaKernel Magics",
     "url": "https://metakernel.readthedocs.io/en/latest/source/README.html"
    }
   ],
   "mimetype": "text/x-octave",
   "name": "octave",
   "version": "5.2.0"
  }
 },
 "nbformat": 4,
 "nbformat_minor": 5
}
