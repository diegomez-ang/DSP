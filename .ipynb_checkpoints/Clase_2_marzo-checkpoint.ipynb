{
 "cells": [
  {
   "cell_type": "code",
   "execution_count": 10,
   "id": "deb7e9a6",
   "metadata": {},
   "outputs": [
    {
     "name": "stdout",
     "output_type": "stream",
     "text": [
      "warning: division by zero\n",
      "warning: division by zero\n",
      "warning: division by zero\n",
      "warning: division by zero\n",
      "warning: division by zero\n",
      "warning: division by zero\n",
      "warning: division by zero\n",
      "warning: division by zero\n",
      "warning: division by zero\n",
      "warning: division by zero\n",
      "warning: division by zero\n",
      "warning: division by zero\n",
      "warning: division by zero\n",
      "warning: division by zero\n",
      "warning: division by zero\n"
     ]
    }
   ],
   "source": [
    "\n",
    "pkg load image\n",
    "\n",
    "#NORMALIZACIÓN -> consiste en dejar los colores en un rango especifico\n",
    "ima = imread(\"simpson.jpg\");\n",
    "\n",
    "sal = ima;\n",
    "\n",
    "R = ima(:,:,1);\n",
    "G = ima(:,:,2);\n",
    "B = ima(:,:,3);\n",
    "\n",
    "sim = ima; #crea una imagen a partir de la imagen original\n",
    "[f c] = size(R);\n",
    "\n",
    "R1 = R;\n",
    "G1 = G;\n",
    "B1 = B;\n",
    "\n",
    "for fi=1:f\n",
    "    for ci=1:c\n",
    "        #formula de normalización\n",
    "        #se realiza pixel a pixel\n",
    "        #cuando se normaliza los valores son 0 y 1, por eso se multiplica por 255\n",
    "        R1(fi, ci) = (R(fi,ci))/(R(fi,ci)+(G(fi,ci))+(B(fi,ci)))*255; #se multiplica por 255 por el tamaño resultante\n",
    "        G1(fi, ci) = (G(fi,ci))/(R(fi,ci)+(G(fi,ci))+(B(fi,ci)))*255;\n",
    "        B1(fi, ci) = (B(fi,ci))/(R(fi,ci)+(G(fi,ci))+(B(fi,ci)))*255;\n",
    "        \n",
    "    endfor\n",
    "endfor\n",
    "\n",
    "#recompone la imagen\n",
    "sal(:,:,1) = R1;\n",
    "sal(:,:,1) = G1;\n",
    "sal(:,:,1) = B1;\n",
    "\n",
    "subplot(1,2,1);\n",
    "imshow(ima);\n",
    "subplot(1,2,2);\n",
    "imshow(sal);\n",
    "imwrite(sal, \"carreteranorm.jpg\");\n",
    "#la normalización elimina degradados y sirve para resaltar regiones\n"
   ]
  },
  {
   "cell_type": "code",
   "execution_count": 24,
   "id": "ed1c662a",
   "metadata": {},
   "outputs": [],
   "source": [
    "pkg load image\n",
    "\n",
    "#NORMALIZACIÓN -> consiste en dejar los colores en un rango especifico\n",
    "ima = imread(\"calle.png\");\n",
    "\n",
    "sal = ima;\n",
    "sal1 = ima;\n",
    "\n",
    "R = ima(:,:,1);\n",
    "G = ima(:,:,2);\n",
    "B = ima(:,:,3);\n",
    "\n",
    "sim = ima; #crea una imagen a partir de la imagen original\n",
    "[f c] = size(R);\n",
    "\n",
    "#mejora de la ecualización\n",
    "R1 = R;\n",
    "G1 = G;\n",
    "B1 = B;\n",
    "\n",
    "R1 = histeq(R);\n",
    "G1 = histeq(G);\n",
    "B1 = histeq(B);\n",
    "\n",
    "sal(:,:,1) = R1*255;\n",
    "sal(:,:,2) = G1*255;\n",
    "sal(:,:,3) = B1*255;\n",
    "\n",
    "sal1 = imadjust(ima,[.2 .3 0 ; .6 .7 1],[]); #baja la iluminación.\n",
    "\n",
    "subplot(1,2,1);\n",
    "imshow(ima);\n",
    "subplot(1,2,2);\n",
    "imshow(sal1);\n",
    "imwrite(sal1, \"calle_curvaIlum.png\");"
   ]
  }
 ],
 "metadata": {
  "kernelspec": {
   "display_name": "Octave",
   "language": "octave",
   "name": "octave"
  },
  "language_info": {
   "file_extension": ".m",
   "help_links": [
    {
     "text": "GNU Octave",
     "url": "https://www.gnu.org/software/octave/support.html"
    },
    {
     "text": "Octave Kernel",
     "url": "https://github.com/Calysto/octave_kernel"
    },
    {
     "text": "MetaKernel Magics",
     "url": "https://metakernel.readthedocs.io/en/latest/source/README.html"
    }
   ],
   "mimetype": "text/x-octave",
   "name": "octave",
   "version": "5.2.0"
  }
 },
 "nbformat": 4,
 "nbformat_minor": 5
}
